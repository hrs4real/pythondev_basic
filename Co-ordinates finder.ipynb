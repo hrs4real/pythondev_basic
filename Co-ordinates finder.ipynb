{
 "cells": [
  {
   "cell_type": "code",
   "execution_count": 30,
   "id": "7b0dfb48",
   "metadata": {},
   "outputs": [],
   "source": [
    "from geopy.geocoders import Nominatim\n",
    "import requests"
   ]
  },
  {
   "cell_type": "code",
   "execution_count": 31,
   "id": "074bc8cd",
   "metadata": {},
   "outputs": [],
   "source": [
    "geolocator = Nominatim(user_agent=\"GetLoc\")"
   ]
  },
  {
   "cell_type": "code",
   "execution_count": 47,
   "id": "427ddf97",
   "metadata": {},
   "outputs": [],
   "source": [
    "def get_given_location():\n",
    "    try:\n",
    "        address=input(\"Enter the location you want co-ordinates for: \")\n",
    "        location = geolocator.geocode(address) \n",
    "        if location:\n",
    "            return location.address,location.latitude, location.longitude\n",
    "        else:\n",
    "            return None\n",
    "    except Exception as e:\n",
    "        print(\"Error:\", e)\n",
    "        return None\n",
    "    \n",
    "def get_user_location():\n",
    "    try:\n",
    "        response = requests.get('https://ipinfo.io')\n",
    "        data = response.json()\n",
    "        latitude,longitude= data['loc'].split(',')\n",
    "        city = data.get('city', 'N/A')\n",
    "        region = data.get('region', 'N/A')\n",
    "        country = data.get('country', 'N/A')\n",
    "        postal = data.get('postal', 'N/A')\n",
    "        address = f\"{city}, {region}, {country}, {postal}\"\n",
    "        return address, latitude, longitude\n",
    "    except:\n",
    "        print(\"Error: Unable to detect your location.\")\n",
    "        return None, None"
   ]
  },
  {
   "cell_type": "code",
   "execution_count": 48,
   "id": "7044f907",
   "metadata": {},
   "outputs": [
    {
     "name": "stdout",
     "output_type": "stream",
     "text": [
      "Enter the location you want co-ordinates for: jaipur\n",
      "Your given Address =  Jaipur, Jaipur Municipal Corporation, Jaipur Tehsil, Jaipur District, Rajasthan, 302001, India\n",
      "Your given location's latitude =  26.9154576\n",
      "Your given location's longitude =  75.8189817\n"
     ]
    }
   ],
   "source": [
    "given_location = get_given_location()\n",
    "if given_location:\n",
    "    print(\"Your given Address = \", given_location[0])\n",
    "    print(\"Your given location's latitude = \", given_location[1])\n",
    "    print(\"Your given location's longitude = \", given_location[2])\n",
    "else:\n",
    "    print(\"Unable to retrieve your current location.\")"
   ]
  },
  {
   "cell_type": "code",
   "execution_count": 49,
   "id": "2ad99c08",
   "metadata": {},
   "outputs": [
    {
     "name": "stdout",
     "output_type": "stream",
     "text": [
      "Your given Address =  Jaipur, Rajasthan, IN, 302001\n",
      "Your given location's latitude =  26.9196\n",
      "Your given location's longitude =  75.7878\n"
     ]
    }
   ],
   "source": [
    "user_location = get_user_location()\n",
    "if given_location:\n",
    "    print(\"Your given Address = \", user_location[0])\n",
    "    print(\"Your given location's latitude = \", user_location[1])\n",
    "    print(\"Your given location's longitude = \", user_location[2])\n",
    "else:\n",
    "    print(\"Unable to retrieve your current location.\")"
   ]
  },
  {
   "cell_type": "code",
   "execution_count": null,
   "id": "42d298fa",
   "metadata": {},
   "outputs": [],
   "source": []
  }
 ],
 "metadata": {
  "kernelspec": {
   "display_name": "Python 3 (ipykernel)",
   "language": "python",
   "name": "python3"
  },
  "language_info": {
   "codemirror_mode": {
    "name": "ipython",
    "version": 3
   },
   "file_extension": ".py",
   "mimetype": "text/x-python",
   "name": "python",
   "nbconvert_exporter": "python",
   "pygments_lexer": "ipython3",
   "version": "3.10.9"
  }
 },
 "nbformat": 4,
 "nbformat_minor": 5
}

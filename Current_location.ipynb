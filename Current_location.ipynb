{
 "cells": [
  {
   "cell_type": "code",
   "execution_count": 1,
   "id": "7b0dfb48",
   "metadata": {},
   "outputs": [],
   "source": [
    "from geopy.geocoders import Nominatim"
   ]
  },
  {
   "cell_type": "code",
   "execution_count": 2,
   "id": "074bc8cd",
   "metadata": {},
   "outputs": [],
   "source": [
    "geolocator = Nominatim(user_agent=\"GetLoc\")"
   ]
  },
  {
   "cell_type": "code",
   "execution_count": 15,
   "id": "427ddf97",
   "metadata": {},
   "outputs": [],
   "source": [
    "def get_current_location():\n",
    "    try:\n",
    "        location = geolocator.geocode(\"me\")  # Using a dummy query to get the current location\n",
    "        if location:\n",
    "            return location.address,location.latitude, location.longitude\n",
    "        else:\n",
    "            return None\n",
    "    except Exception as e:\n",
    "        print(\"Error:\", e)\n",
    "        return None"
   ]
  },
  {
   "cell_type": "code",
   "execution_count": 16,
   "id": "7044f907",
   "metadata": {},
   "outputs": [
    {
     "name": "stdout",
     "output_type": "stream",
     "text": [
      "Your Current Address =  México\n",
      "Your Current Latitude =  23.6585116\n",
      "Your Current Longitude =  -102.0077097\n"
     ]
    }
   ],
   "source": [
    "current_location = get_current_location()\n",
    "if current_location:\n",
    "    print(\"Your Current Address = \", current_location[0])\n",
    "    print(\"Your Current Latitude = \", current_location[1])\n",
    "    print(\"Your Current Longitude = \", current_location[2])\n",
    "else:\n",
    "    print(\"Unable to retrieve your current location.\")"
   ]
  },
  {
   "cell_type": "code",
   "execution_count": null,
   "id": "2ad99c08",
   "metadata": {},
   "outputs": [],
   "source": []
  }
 ],
 "metadata": {
  "kernelspec": {
   "display_name": "Python 3 (ipykernel)",
   "language": "python",
   "name": "python3"
  },
  "language_info": {
   "codemirror_mode": {
    "name": "ipython",
    "version": 3
   },
   "file_extension": ".py",
   "mimetype": "text/x-python",
   "name": "python",
   "nbconvert_exporter": "python",
   "pygments_lexer": "ipython3",
   "version": "3.10.9"
  }
 },
 "nbformat": 4,
 "nbformat_minor": 5
}

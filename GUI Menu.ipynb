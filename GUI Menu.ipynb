{
 "cells": [
  {
   "cell_type": "code",
   "execution_count": 1,
   "id": "c684e369",
   "metadata": {},
   "outputs": [],
   "source": [
    "import os\n",
    "import tkinter as tk\n",
    "from tkinter import messagebox\n",
    "\n",
    "# Function to open the selected application\n",
    "def open_application():\n",
    "    n = int(app_entry.get())\n",
    "\n",
    "    if n == 0:\n",
    "        os.system(\"start Wireshark\")\n",
    "    elif n == 1:\n",
    "        os.system(\"notepad\")\n",
    "    elif n == 2:\n",
    "        os.system(\"mspaint\")\n",
    "    elif n == 3:\n",
    "        os.system(\"start chrome\")\n",
    "    elif n == 4:\n",
    "        os.system(\"start brave\")\n",
    "    elif n == 5:\n",
    "        os.system(\"write\")\n",
    "    elif n == 6:\n",
    "        os.system(\"explorer\")\n",
    "    elif n == 7:\n",
    "        os.system(\"jupyter notebook\")\n",
    "    elif n == 8:\n",
    "        os.system(\"start Excel\")\n",
    "    elif n == 9:\n",
    "        os.system(\"start Onedrive\")\n",
    "    else:\n",
    "        messagebox.showinfo(\"Invalid Input\", \"Sorry, that option is not available in the menu.\")\n"
   ]
  },
  {
   "cell_type": "code",
   "execution_count": 2,
   "id": "49f15782",
   "metadata": {},
   "outputs": [],
   "source": [
    "# Create the main window\n",
    "root = tk.Tk()\n",
    "root.title(\"Assistant\")\n",
    "\n",
    "# Welcome note\n",
    "welcome_label = tk.Label(root, text=\"Welcome to Assistant, How can I help you?\")\n",
    "welcome_label.pack(pady=10)\n",
    "\n",
    "# Menu\n",
    "menu_label = tk.Label(root, text=\"Menu:\")\n",
    "menu_label.pack()\n",
    "\n",
    "# Input field to choose the option from the menu\n",
    "app_entry = tk.Entry(root)\n",
    "app_entry.pack(pady=5)\n",
    "\n",
    "# Button to open the selected application\n",
    "open_button = tk.Button(root, text=\"Open Application\", command=open_application)\n",
    "open_button.pack(pady=10)\n",
    "\n",
    "# Run the main loop\n",
    "root.mainloop()"
   ]
  },
  {
   "cell_type": "code",
   "execution_count": null,
   "id": "933b0c9e",
   "metadata": {},
   "outputs": [],
   "source": []
  }
 ],
 "metadata": {
  "kernelspec": {
   "display_name": "Python 3 (ipykernel)",
   "language": "python",
   "name": "python3"
  },
  "language_info": {
   "codemirror_mode": {
    "name": "ipython",
    "version": 3
   },
   "file_extension": ".py",
   "mimetype": "text/x-python",
   "name": "python",
   "nbconvert_exporter": "python",
   "pygments_lexer": "ipython3",
   "version": "3.10.9"
  }
 },
 "nbformat": 4,
 "nbformat_minor": 5
}

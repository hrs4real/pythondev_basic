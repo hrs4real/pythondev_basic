{
 "cells": [
  {
   "cell_type": "code",
   "execution_count": 6,
   "id": "2ea3cb8b",
   "metadata": {},
   "outputs": [],
   "source": [
    "from googlesearch import search"
   ]
  },
  {
   "cell_type": "code",
   "execution_count": 7,
   "id": "a0a3b4ab",
   "metadata": {},
   "outputs": [],
   "source": [
    "def get_user_query():\n",
    "    return input(\"What do you want to search on Google? \")\n",
    "\n",
    "def google_search(query):\n",
    "    top_results = list(search(query, num_results=5))\n",
    "\n",
    "    print(f\"\\nTop 5 results for '{query}':\\n\")\n",
    "    for idx, result in enumerate(top_results, start=1):\n",
    "        print(f\"{idx}. {result}\")"
   ]
  },
  {
   "cell_type": "code",
   "execution_count": 9,
   "id": "7d779cec",
   "metadata": {},
   "outputs": [
    {
     "name": "stdout",
     "output_type": "stream",
     "text": [
      "What do you want to search on Google? hey\n",
      "\n",
      "Top 5 results for 'hey':\n",
      "\n",
      "1. https://www.merriam-webster.com/dictionary/hey\n",
      "2. https://www.dictionary.com/browse/hey\n",
      "3. https://dictionary.cambridge.org/dictionary/english/hey\n",
      "4. https://www.britannica.com/dictionary/hey\n",
      "5. https://www.collinsdictionary.com/dictionary/english/hey\n",
      "6. https://www.oxfordlearnersdictionaries.com/definition/english/hey\n"
     ]
    }
   ],
   "source": [
    "user_query = get_user_query()\n",
    "google_search(user_query)"
   ]
  },
  {
   "cell_type": "code",
   "execution_count": null,
   "id": "62200142",
   "metadata": {},
   "outputs": [],
   "source": []
  }
 ],
 "metadata": {
  "kernelspec": {
   "display_name": "Python 3 (ipykernel)",
   "language": "python",
   "name": "python3"
  },
  "language_info": {
   "codemirror_mode": {
    "name": "ipython",
    "version": 3
   },
   "file_extension": ".py",
   "mimetype": "text/x-python",
   "name": "python",
   "nbconvert_exporter": "python",
   "pygments_lexer": "ipython3",
   "version": "3.10.9"
  }
 },
 "nbformat": 4,
 "nbformat_minor": 5
}

{
 "cells": [
  {
   "cell_type": "code",
   "execution_count": null,
   "id": "94f43845",
   "metadata": {},
   "outputs": [],
   "source": [
    "# login and post photo on insta\n",
    "from instabot import Bot\n",
    "bot = Bot()\n",
    "bot.login(username=\"your_userid\", password=\"your_password\")\n",
    "img = \"photo.jpg\"   # give the path and name if it is in different directory\n",
    "bot.upload_photo(img, caption=\"(...\")"
   ]
  },
  {
   "cell_type": "code",
   "execution_count": null,
   "id": "3e09cc69",
   "metadata": {},
   "outputs": [],
   "source": [
    "# To follow a single user.\n",
    "bot.follow(\"username\")"
   ]
  },
  {
   "cell_type": "code",
   "execution_count": null,
   "id": "b174d4d0",
   "metadata": {},
   "outputs": [],
   "source": [
    "# To follow more users.\n",
    "list_of_user = [\"userId1\", \"userId2\", \"userId3\", \"....\"] bot.follow_users(list_of_user)"
   ]
  },
  {
   "cell_type": "code",
   "execution_count": null,
   "id": "80c09c6f",
   "metadata": {},
   "outputs": [],
   "source": [
    "# To unfollow more users.\n",
    "unfollow_list = [\"userId1\", \"userId2\", \"userId3\", \"...\"]\n",
    "bot.unfollow_users(unfollow_list)"
   ]
  },
  {
   "cell_type": "code",
   "execution_count": null,
   "id": "833904e6",
   "metadata": {},
   "outputs": [],
   "source": [
    "post_link = \"https://www.instagram.com/p/CWqleONFg4/\"   # enter the post link\n",
    "post = bot.get_media_id_from_link(post_link)\n",
    "\n",
    "# like\n",
    "bot.like(post)\n",
    "\n",
    "# comment\n",
    "bot.comment(post, \"Comments ..\")"
   ]
  },
  {
   "cell_type": "code",
   "execution_count": null,
   "id": "30402436",
   "metadata": {},
   "outputs": [],
   "source": [
    "# To send messages to a single user.\n",
    "message = \"Hello, Thanks for the gift\"\n",
    "bot.send_message(message, \"username\")"
   ]
  }
 ],
 "metadata": {
  "kernelspec": {
   "display_name": "Python 3 (ipykernel)",
   "language": "python",
   "name": "python3"
  },
  "language_info": {
   "codemirror_mode": {
    "name": "ipython",
    "version": 3
   },
   "file_extension": ".py",
   "mimetype": "text/x-python",
   "name": "python",
   "nbconvert_exporter": "python",
   "pygments_lexer": "ipython3",
   "version": "3.10.9"
  }
 },
 "nbformat": 4,
 "nbformat_minor": 5
}

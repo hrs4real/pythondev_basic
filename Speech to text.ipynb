{
 "cells": [
  {
   "cell_type": "code",
   "execution_count": 5,
   "id": "0c22a613",
   "metadata": {},
   "outputs": [],
   "source": [
    "import speech_recognition as sr\n",
    "r = sr.Recognizer()\n",
    "import pyttsx3\n",
    "def speak(MyText):\n",
    "    engine = pyttsx3.init()\n",
    "    engine.say(\"Did you say \"+ MyText)\n",
    "    engine.runAndWait()"
   ]
  },
  {
   "cell_type": "code",
   "execution_count": 6,
   "id": "d918056c",
   "metadata": {},
   "outputs": [
    {
     "name": "stdout",
     "output_type": "stream",
     "text": [
      "start speaking\n",
      "Recorded\n",
      "Did you say  hey how are you doing\n"
     ]
    }
   ],
   "source": [
    "try:\n",
    " with sr.Microphone() as source2:\n",
    "     print (\"start speaking\")   \n",
    "     audio2=r.listen(source2)\n",
    "     MyText = r.recognize_google(audio2)\n",
    "     print(\"Recorded\")\n",
    "     MyText = MyText.lower()   \n",
    "     print(\"Did you say \",MyText)\n",
    "     speak(MyText)\n",
    "except sr.RequestError as e:\n",
    "        print(\"Could not request results; {0}\".format(e))\n",
    "         \n",
    "except sr.UnknownValueError:\n",
    "        print(\"unknown error occurred\")"
   ]
  },
  {
   "cell_type": "code",
   "execution_count": 9,
   "id": "b6ac56aa",
   "metadata": {},
   "outputs": [
    {
     "data": {
      "text/plain": [
       "1"
      ]
     },
     "execution_count": 9,
     "metadata": {},
     "output_type": "execute_result"
    }
   ],
   "source": [
    "import os\n",
    "os.system(\"Calculator\")\n"
   ]
  },
  {
   "cell_type": "code",
   "execution_count": null,
   "id": "a81e51a7",
   "metadata": {},
   "outputs": [],
   "source": []
  }
 ],
 "metadata": {
  "kernelspec": {
   "display_name": "Python 3 (ipykernel)",
   "language": "python",
   "name": "python3"
  },
  "language_info": {
   "codemirror_mode": {
    "name": "ipython",
    "version": 3
   },
   "file_extension": ".py",
   "mimetype": "text/x-python",
   "name": "python",
   "nbconvert_exporter": "python",
   "pygments_lexer": "ipython3",
   "version": "3.10.9"
  }
 },
 "nbformat": 4,
 "nbformat_minor": 5
}

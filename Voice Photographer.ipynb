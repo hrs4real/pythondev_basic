{
 "cells": [
  {
   "cell_type": "code",
   "execution_count": 5,
   "id": "f505957b",
   "metadata": {},
   "outputs": [],
   "source": [
    "import speech_recognition as sr\n",
    "import os\n",
    "import cv2\n"
   ]
  },
  {
   "cell_type": "code",
   "execution_count": null,
   "id": "268e45e0",
   "metadata": {},
   "outputs": [],
   "source": [
    "try:\n",
    " while(True):\n",
    "  print(\"1.) Say to click the photo if you want to capture the photo\")\n",
    "  print(\"2.) Say show the photo if you want to check the photo\")\n",
    "  print(\"3.) Say apply filter if you want to apply the filter on picture\")   \n",
    "  print(\"4.) Say stop or close the program if you want to stop the program\")\n",
    "  new= sr.Recognizer()\n",
    "  with sr.Microphone() as source:\n",
    "      print(\"Listening.....\")\n",
    "      data=new.listen(source)\n",
    "      text=new.recognize_google(data)\n",
    "      print(\"Got it.....\"+text)\n",
    "    \n",
    "  if(\"click\" in text):\n",
    "    print(\"Clicking the photo...\")\n",
    "    cap=cv2.VideoCapture(0)\n",
    "    status,image=cap.read()\n",
    "    cap.release()\n",
    "    \n",
    "  elif(\"filter\" in text):\n",
    "    grey_image = cv2.cvtColor(image,cv2.COLOR_BGR2GRAY)\n",
    "    cv2.imshow(\"B&W Image\",grey_image)\n",
    "    cv2.waitKey(3000)\n",
    "    cv2.destroyAllWindows()\n",
    "\n",
    "  elif(\"show\" in text):\n",
    "    print(\"Showing the picture...\")\n",
    "    cv2.imshow('Picture',image)\n",
    "    cv2.waitKey(3000)\n",
    "    cv2.destroyAllWindows()\n",
    "    \n",
    "  elif(\"stop\" or \"close\" in text):\n",
    "    print(\"Closing the program...\")\n",
    "    break\n",
    "  else:\n",
    "    print(\"Sorry, I couldn't understand that.\")\n",
    "    print(\"Please try again.\")\n",
    "    \n",
    "except:\n",
    "    print(\"Sorry, I couldn't understand that. Closing the program...\")"
   ]
  },
  {
   "cell_type": "code",
   "execution_count": null,
   "id": "9e7e5fc1",
   "metadata": {},
   "outputs": [],
   "source": []
  }
 ],
 "metadata": {
  "kernelspec": {
   "display_name": "Python 3 (ipykernel)",
   "language": "python",
   "name": "python3"
  },
  "language_info": {
   "codemirror_mode": {
    "name": "ipython",
    "version": 3
   },
   "file_extension": ".py",
   "mimetype": "text/x-python",
   "name": "python",
   "nbconvert_exporter": "python",
   "pygments_lexer": "ipython3",
   "version": "3.10.9"
  }
 },
 "nbformat": 4,
 "nbformat_minor": 5
}

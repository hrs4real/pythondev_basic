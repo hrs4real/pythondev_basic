{
 "cells": [
  {
   "cell_type": "code",
   "execution_count": 3,
   "id": "e72ee8e5",
   "metadata": {},
   "outputs": [],
   "source": [
    "import speech_recognition as sr\n",
    "import os\n",
    "r= sr.Recognizer()\n",
    "import pyttsx3\n",
    "engine = pyttsx3.init()\n",
    "engine.runAndWait()"
   ]
  },
  {
   "cell_type": "code",
   "execution_count": 2,
   "id": "3129c4c8",
   "metadata": {},
   "outputs": [],
   "source": [
    "var\n",
    "while(var)\n",
    " try:\n",
    "  with sr.Microphone() as source2:\n",
    "     engine.say(\"Start Speaking\")\n",
    "     engine.runAndWait()   \n",
    "     audio2=r.listen(source2)\n",
    "     MyText = r.recognize_google(audio2)\n",
    "     engine.say(\"\")\n",
    "     MyText = MyText.lower()   \n",
    "     print(\"Did you say \",MyText)\n",
    "     speak(MyText)\n",
    " except sr.RequestError as e:\n",
    "        print(\"Could not request results; {0}\".format(e))\n",
    "         \n",
    " except sr.UnknownValueError:\n",
    "        print(\"Unknown error occurred\")\n"
   ]
  },
  {
   "cell_type": "code",
   "execution_count": 5,
   "id": "49e84db5",
   "metadata": {},
   "outputs": [
    {
     "data": {
      "text/plain": [
       "0"
      ]
     },
     "execution_count": 5,
     "metadata": {},
     "output_type": "execute_result"
    }
   ],
   "source": [
    "os.system(\"start chrome\")"
   ]
  },
  {
   "cell_type": "code",
   "execution_count": null,
   "id": "3a269125",
   "metadata": {},
   "outputs": [],
   "source": []
  }
 ],
 "metadata": {
  "kernelspec": {
   "display_name": "Python 3 (ipykernel)",
   "language": "python",
   "name": "python3"
  },
  "language_info": {
   "codemirror_mode": {
    "name": "ipython",
    "version": 3
   },
   "file_extension": ".py",
   "mimetype": "text/x-python",
   "name": "python",
   "nbconvert_exporter": "python",
   "pygments_lexer": "ipython3",
   "version": "3.10.9"
  }
 },
 "nbformat": 4,
 "nbformat_minor": 5
}
